{
 "cells": [
  {
   "cell_type": "code",
   "execution_count": 2,
   "metadata": {},
   "outputs": [
    {
     "name": "stdout",
     "output_type": "stream",
     "text": [
      "wrong guess a lower number \n",
      "wrong guess a higher number \n",
      "wrong guess a higher number \n",
      "wrong guess a higher number \n",
      "wrong guess a higher number \n",
      "You have gussed the correct number \n",
      "jackpot number :  51\n",
      "guess number:  51\n",
      "you gussed this number in   6  counts\n"
     ]
    }
   ],
   "source": [
    "#guessing game using while loop\n",
    "\n",
    "import random\n",
    "\n",
    "jackpot= random.randint(1,100)\n",
    "\n",
    "guess= int(input('Guess a Number '))\n",
    "counter=1\n",
    "while guess!=jackpot:\n",
    "    if guess<jackpot:\n",
    "        print('wrong guess a higher number ')\n",
    "    else:\n",
    "        print('wrong guess a lower number ')\n",
    "    guess=int(input('Guess a Number '))\n",
    "    counter+=1\n",
    "\n",
    "else:\n",
    "    print('You have gussed the correct number ')\n",
    "    print('jackpot number : ',jackpot)\n",
    "    print('guess number: ', guess)\n",
    "    print('you gussed this number in  ',counter, ' counts')\n"
   ]
  }
 ],
 "metadata": {
  "kernelspec": {
   "display_name": "Python 3",
   "language": "python",
   "name": "python3"
  },
  "language_info": {
   "codemirror_mode": {
    "name": "ipython",
    "version": 3
   },
   "file_extension": ".py",
   "mimetype": "text/x-python",
   "name": "python",
   "nbconvert_exporter": "python",
   "pygments_lexer": "ipython3",
   "version": "3.12.5"
  }
 },
 "nbformat": 4,
 "nbformat_minor": 2
}
