{
 "cells": [
  {
   "cell_type": "code",
   "execution_count": null,
   "metadata": {},
   "outputs": [],
   "source": [
    "#program to find minimum of three numbers \n",
    "\n",
    "a=int(input('enter first number'))\n",
    "b=int(input('enter second number'))\n",
    "c=int(input('enter third number '))\n",
    "\n",
    "#condition to check smallest number \n",
    "\n",
    "if a<b and a<c:\n",
    "  print('Smallest Number is a :',a)\n",
    "elif b<c:\n",
    "  print('smallest number is b:',b)\n",
    "else:\n",
    "  print('smallest number is c:', c)"
   ]
  }
 ],
 "metadata": {
  "language_info": {
   "name": "python"
  }
 },
 "nbformat": 4,
 "nbformat_minor": 2
}
