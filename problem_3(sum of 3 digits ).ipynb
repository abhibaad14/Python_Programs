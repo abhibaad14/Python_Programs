{
 "cells": [
  {
   "cell_type": "code",
   "execution_count": 1,
   "metadata": {},
   "outputs": [
    {
     "name": "stdout",
     "output_type": "stream",
     "text": [
      "Sum of 3 digit number : 14\n"
     ]
    }
   ],
   "source": [
    "#program to find the sum of 3 digit number entered by user \n",
    "\n",
    "number = int(input('enter 3 digit number '))\n",
    "\n",
    "a= number%10\n",
    "\n",
    "number=number//10\n",
    "\n",
    "b= number%10\n",
    "\n",
    "number=number//10\n",
    "\n",
    "c= number%10\n",
    "\n",
    "print('Sum of 3 digit number :', a+b+c)"
   ]
  }
 ],
 "metadata": {
  "kernelspec": {
   "display_name": "Python 3",
   "language": "python",
   "name": "python3"
  },
  "language_info": {
   "codemirror_mode": {
    "name": "ipython",
    "version": 3
   },
   "file_extension": ".py",
   "mimetype": "text/x-python",
   "name": "python",
   "nbconvert_exporter": "python",
   "pygments_lexer": "ipython3",
   "version": "3.12.5"
  }
 },
 "nbformat": 4,
 "nbformat_minor": 2
}
