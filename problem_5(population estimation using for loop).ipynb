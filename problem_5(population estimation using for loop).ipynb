{
 "cells": [
  {
   "cell_type": "code",
   "execution_count": null,
   "metadata": {},
   "outputs": [],
   "source": []
  },
  {
   "cell_type": "code",
   "execution_count": 1,
   "metadata": {},
   "outputs": [
    {
     "name": "stdout",
     "output_type": "stream",
     "text": [
      "population   10 year before 10000\n",
      "population   9 year before 9000.0\n",
      "population   8 year before 8100.0\n",
      "population   7 year before 7290.0\n",
      "population   6 year before 6561.0\n",
      "population   5 year before 5904.9\n",
      "population   4 year before 5314.41\n",
      "population   3 year before 4782.969\n",
      "population   2 year before 4304.6721\n",
      "population   1 year before 3874.20489\n"
     ]
    }
   ],
   "source": [
    "#Program - The current population of a town is 10000. \n",
    "# The population of the town is increasing at the rate of 10% per year. \n",
    "# You have to write a program to find out the population at the end of each of the last 10 years.\n",
    "\n",
    "current_population= 10000\n",
    "\n",
    "for i in range(10,0,-1):\n",
    "    \n",
    "    print('population  ', i ,'year before', current_population )\n",
    "    current_population= current_population- 0.1*(current_population)"
   ]
  }
 ],
 "metadata": {
  "kernelspec": {
   "display_name": "Python 3",
   "language": "python",
   "name": "python3"
  },
  "language_info": {
   "codemirror_mode": {
    "name": "ipython",
    "version": 3
   },
   "file_extension": ".py",
   "mimetype": "text/x-python",
   "name": "python",
   "nbconvert_exporter": "python",
   "pygments_lexer": "ipython3",
   "version": "3.12.5"
  }
 },
 "nbformat": 4,
 "nbformat_minor": 2
}
