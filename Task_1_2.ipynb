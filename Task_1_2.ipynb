{
 "cells": [
  {
   "cell_type": "code",
   "execution_count": null,
   "metadata": {},
   "outputs": [],
   "source": []
  },
  {
   "cell_type": "code",
   "execution_count": 5,
   "metadata": {},
   "outputs": [
    {
     "name": "stdout",
     "output_type": "stream",
     "text": [
      "Data-Science-Mentorship-Program-By-CampusX\n"
     ]
    }
   ],
   "source": [
    "'''Q1 :- Print the given strings as per stated format.\n",
    "Given strings:\n",
    "\n",
    "\"Data\" \"Science\" \"Mentorship\" \"Program\" \n",
    "\"By\" \"CampusX\"\n",
    "Output:\n",
    "\n",
    "Data-Science-Mentorship-Program-started-By-CampusX'''\n",
    "\n",
    "\n",
    "\n",
    "print(\"Data\", \"Science\", \"Mentorship\" ,\"Program\" ,sep='-',end='-')\n",
    "print(\"By\",\"CampusX\",sep='-')"
   ]
  },
  {
   "cell_type": "code",
   "execution_count": 7,
   "metadata": {},
   "outputs": [
    {
     "name": "stdout",
     "output_type": "stream",
     "text": [
      "Temperature in Fahrenheit :  89.6\n"
     ]
    }
   ],
   "source": [
    "# Q2:- Write a program that will convert celsius value to fahrenheit.\n",
    "\n",
    "celsius= float(input('Enter temperature in celsius'))\n",
    "\n",
    "fahrenheit= celsius*(9/5) + 32\n",
    "\n",
    "print('Temperature in Fahrenheit : ', fahrenheit)"
   ]
  },
  {
   "cell_type": "code",
   "execution_count": 9,
   "metadata": {},
   "outputs": [
    {
     "name": "stdout",
     "output_type": "stream",
     "text": [
      "value of a before swapping:  2\n",
      "value of b before swapping : 3\n",
      "value of a after swapping:  3\n",
      "value of b after swapping:  3\n"
     ]
    }
   ],
   "source": [
    "# Q3:- Take 2 numbers as input from the user.\n",
    "# Write a program to swap the numbers without using any special python syntax.\n",
    "\n",
    "a= int(input('Enter first number'))\n",
    "b= int(input('enter second number'))\n",
    "\n",
    "print ('value of a before swapping: ',a)\n",
    "print('value of b before swapping :',b)\n",
    "\n",
    "temporary = a\n",
    "a=b\n",
    "b=a\n",
    "\n",
    "print('value of a after swapping: ',a)\n",
    "print('value of b after swapping: ',b)"
   ]
  },
  {
   "cell_type": "code",
   "execution_count": 13,
   "metadata": {},
   "outputs": [
    {
     "name": "stdout",
     "output_type": "stream",
     "text": [
      "Total distance between two points using euclidean is : 5.0 units\n"
     ]
    }
   ],
   "source": [
    "#Q4:- Write a program to find the euclidean distance between two coordinates.\n",
    "# Take both the coordinates from the user as input.\n",
    "\n",
    "p1x=float(input('Enter x co-ordinate for point 1'))\n",
    "p1y=float(input('Enter y co-ordinate for point 1'))\n",
    "p2x=float(input('Enter x co-ordinate for point 2'))\n",
    "p2y=float(input('Enter y co-ordinate for point 2'))\n",
    "\n",
    "distance= ((p2x-p1x)**2 + (p2y-p1y)**2)**0.5\n",
    "\n",
    "print('Total distance between two points using euclidean is :', round(distance,2), 'units')"
   ]
  },
  {
   "cell_type": "code",
   "execution_count": 15,
   "metadata": {},
   "outputs": [
    {
     "name": "stdout",
     "output_type": "stream",
     "text": [
      "simple interest is :  100.0 units\n"
     ]
    }
   ],
   "source": [
    "#Q5:- Write a program to find the simple interest when the value of principle,rate of interest and time period is provided by the user.\n",
    "\n",
    "p=float(input('Enter principle amount'))\n",
    "t=float(input('enter time period '))\n",
    "r=float(input('enter rate of interest '))\n",
    "\n",
    "simple_interest= (p*t*r)/100\n",
    "\n",
    "print('simple interest is : ', simple_interest, 'units')"
   ]
  },
  {
   "cell_type": "code",
   "execution_count": 17,
   "metadata": {},
   "outputs": [
    {
     "name": "stdout",
     "output_type": "stream",
     "text": [
      "Total number of heads : 4\n",
      "Total number of legs : 12\n",
      "Number of Dogs : 2.0\n",
      "Number of Chicken: 2.0\n"
     ]
    }
   ],
   "source": [
    "#Q6:- Write a program that will tell the number of dogs and chicken are there when the user will provide the value of total heads and legs.\n",
    "#For example: Input: heads -> 4 legs -> 12\n",
    "#Output: dogs -> 2 chicken -> 2\n",
    "\n",
    "'''\n",
    "so lets make linear equations with two varables \n",
    "D= no of dogs (heads)\n",
    "C= no of chicken (heads)\n",
    "H= total number of heads\n",
    "L= total number of legs \n",
    "\n",
    "H= D+C\n",
    "L= 4D+2C\n",
    "L-2H = 2D\n",
    "D= (L-2H)/2.....(1)\n",
    "\n",
    "4H-L= 2C\n",
    "\n",
    "C=(4H-L)/2 ......(2)\n",
    "\n",
    "by using these two equations we can solve this problem\n",
    "\n",
    "\n",
    "'''\n",
    "\n",
    "H= int(input('enter total number of heads'))\n",
    "L= int(input('enter total number of legs '))\n",
    "\n",
    "D= (L-2*H)/2\n",
    "\n",
    "C= (4*H-L)/2\n",
    "\n",
    "print('Total number of heads :',H)\n",
    "print('Total number of legs :',L)\n",
    "print('Number of Dogs :',D)\n",
    "print('Number of Chicken:',C)"
   ]
  },
  {
   "cell_type": "code",
   "execution_count": 18,
   "metadata": {},
   "outputs": [
    {
     "name": "stdout",
     "output_type": "stream",
     "text": [
      "Sum of squares of first n natural numbers:  14.0\n"
     ]
    }
   ],
   "source": [
    "#Q7:- Write a program to find the sum of squares of first n natural numbers where n will be provided by the user.\n",
    "\n",
    "n=int(input('Enter the number '))\n",
    "\n",
    "\n",
    "Result = (n*(n+1)*(2*n+1))/6\n",
    "\n",
    "print('Sum of squares of first n natural numbers: ', Result)"
   ]
  },
  {
   "cell_type": "code",
   "execution_count": 20,
   "metadata": {},
   "outputs": [
    {
     "name": "stdout",
     "output_type": "stream",
     "text": [
      "Nth term is  :  5\n"
     ]
    }
   ],
   "source": [
    "#Q8:- Given the first 2 terms of an Arithmetic Series.Find the Nth term of the series. \n",
    "# Assume all inputs are provided by the user.\n",
    "\n",
    "f_term=int(input('Enter first term'))\n",
    "s_term=int(input('enter second term'))\n",
    "n_term=int(input('enter Nth term that u want '))\n",
    "\n",
    "d=s_term-f_term\n",
    "a=f_term\n",
    "\n",
    "Nth_term= a +(n_term-1)*d\n",
    "\n",
    "print('Nth term is  : ',Nth_term)"
   ]
  },
  {
   "cell_type": "code",
   "execution_count": 21,
   "metadata": {},
   "outputs": [
    {
     "name": "stdout",
     "output_type": "stream",
     "text": [
      "22/15\n"
     ]
    }
   ],
   "source": [
    "#Q9:- Given 2 fractions, find the sum of those 2 fractions.\n",
    "# Take the numerator and denominator values of the fractions from the user.\n",
    "\n",
    "n1=int(input('enter ist numerator '))\n",
    "d1=int(input('enter 1st denominator'))\n",
    "n2=int(input('enter 2nd numerator '))\n",
    "d2=int(input('enter 2nd denominator'))\n",
    "\n",
    "rd=(n1*d2)+(d1*n2)\n",
    "rn=(d1*d2)\n",
    "\n",
    "print('{}/{}'.format(rd,rn))\n",
    "\n"
   ]
  },
  {
   "cell_type": "code",
   "execution_count": 23,
   "metadata": {},
   "outputs": [
    {
     "name": "stdout",
     "output_type": "stream",
     "text": [
      "Number of glasses thant can be fille are : 849\n"
     ]
    }
   ],
   "source": [
    "#Q10:- Given the height, width and breadth of a milk tank, you have to find out how many glasses of milk can be obtained? \n",
    "# Assume all the inputs are provided by the user.\n",
    "'''Input:\n",
    "Dimensions of the milk tank\n",
    "H = 20cm, L = 20cm, B = 20cm\n",
    "\n",
    "Dimensions of the glass\n",
    "h = 3cm, r = 1cm'''\n",
    "\n",
    "import math\n",
    "\n",
    "H=int(input('enter height of tank'))\n",
    "L=int(input('enter length of tank'))\n",
    "B=int(input('enter breadth of tank'))\n",
    "\n",
    "h=int(input('enter height of glass'))\n",
    "r=int(input('enter radius of glass'))\n",
    "\n",
    "V_tank= H*L*B\n",
    "V_glass= 3.14*(r**2)*h\n",
    "\n",
    "No_glasses= V_tank/V_glass\n",
    "print('Number of glasses thant can be fille are :',math.floor(No_glasses))"
   ]
  },
  {
   "cell_type": "code",
   "execution_count": null,
   "metadata": {},
   "outputs": [],
   "source": []
  },
  {
   "cell_type": "code",
   "execution_count": null,
   "metadata": {},
   "outputs": [],
   "source": []
  },
  {
   "cell_type": "code",
   "execution_count": null,
   "metadata": {},
   "outputs": [],
   "source": []
  }
 ],
 "metadata": {
  "kernelspec": {
   "display_name": "Python 3",
   "language": "python",
   "name": "python3"
  },
  "language_info": {
   "codemirror_mode": {
    "name": "ipython",
    "version": 3
   },
   "file_extension": ".py",
   "mimetype": "text/x-python",
   "name": "python",
   "nbconvert_exporter": "python",
   "pygments_lexer": "ipython3",
   "version": "3.12.5"
  }
 },
 "nbformat": 4,
 "nbformat_minor": 2
}
