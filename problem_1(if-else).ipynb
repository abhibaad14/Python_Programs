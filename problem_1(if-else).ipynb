{
 "cells": [
  {
   "cell_type": "code",
   "execution_count": 1,
   "metadata": {},
   "outputs": [
    {
     "name": "stdout",
     "output_type": "stream",
     "text": [
      "Login Successfull\n"
     ]
    }
   ],
   "source": [
    "#Python program for login credentials \n",
    "#login and password code \n",
    "#prime_email='baadabhi@gmail.com'\n",
    "#prime_password='Abhinav@14'\n",
    "\n",
    "\n",
    "email=input(\"Enter your email\")\n",
    "password=input(\"Enter your password\")\n",
    "\n",
    "if 'baadabhi@gmail.com'== email and 'Abhinav@14' == password:\n",
    "  print('Login Successfull')\n",
    "\n",
    "elif 'baadabhi@gmail.com'== email and 'Abhinav@14'!= password:\n",
    "  print('incorrect password')\n",
    "  password=input('Enter correct password')\n",
    "  if 'baadabhi@gmail.com' and 'Abhinav@14'==password :\n",
    "    print('login successfull')\n",
    "  else :\n",
    "    print('enter correct password')\n",
    "else:\n",
    "  print('incorrect credentials')\n"
   ]
  }
 ],
 "metadata": {
  "kernelspec": {
   "display_name": "Python 3",
   "language": "python",
   "name": "python3"
  },
  "language_info": {
   "codemirror_mode": {
    "name": "ipython",
    "version": 3
   },
   "file_extension": ".py",
   "mimetype": "text/x-python",
   "name": "python",
   "nbconvert_exporter": "python",
   "pygments_lexer": "ipython3",
   "version": "3.12.5"
  }
 },
 "nbformat": 4,
 "nbformat_minor": 2
}
